{
 "cells": [
  {
   "cell_type": "code",
   "execution_count": 1,
   "id": "1b6e9384",
   "metadata": {},
   "outputs": [
    {
     "name": "stdout",
     "output_type": "stream",
     "text": [
      "\n",
      "Riker Wachtler\n",
      "11 December 2023\n",
      "DL Final Project\n",
      "https://github.com/RikerW/final-dl\n",
      "\n"
     ]
    }
   ],
   "source": [
    "print(\"\"\"\n",
    "Riker Wachtler\n",
    "11 December 2023\n",
    "DL Final Project\n",
    "https://github.com/RikerW/final-dl\n",
    "\"\"\")"
   ]
  },
  {
   "cell_type": "code",
   "execution_count": 2,
   "id": "036f664d",
   "metadata": {},
   "outputs": [
    {
     "name": "stdout",
     "output_type": "stream",
     "text": [
      "\n",
      "This is the completed version of my final project. I left short comments for each thing I'm doing - but in short,\n",
      "it's doing some pre-processing stuff as EDA and then getting into it.\n",
      "\n",
      "This implements a mediocre language translation model (english to spanish) using LTSMs, plus an encoder and decoder.\n",
      "\n",
      "I'll be honest - I wrote most of this, then looked back and said oh whoops, I need an AUTO-encoder for criteria 1, not just an encoder. \n",
      "However, I think should more than count for \"Deep Learning Models\" - the encoders are definitely a form of ANN?\n",
      "They're just feed forward networks, unless I'm mistaken.\n",
      "\n",
      "The callbacks I added are just logs, but hopefully that suffices. Anyway, that's about it. This is a deceptively short project.\n",
      "I reverse engineered a substantial portion from an example from Keras for english->french, which is where I got the data from,\n",
      "but I wrote all of this code myself.\n",
      "\n"
     ]
    }
   ],
   "source": [
    "print(\"\"\"\n",
    "This is the completed version of my final project. I left short comments for each thing I'm doing - but in short,\n",
    "it's doing some pre-processing stuff as EDA and then getting into it.\n",
    "\n",
    "This implements a mediocre language translation model (english to spanish) using LTSMs, plus an encoder and decoder.\n",
    "\n",
    "I'll be honest - I wrote most of this, then looked back and said oh whoops, I need an AUTO-encoder for criteria 1, not just an encoder. \n",
    "However, I think should more than count for \"Deep Learning Models\" - the encoders are definitely a form of ANN?\n",
    "They're just feed forward networks, unless I'm mistaken.\n",
    "\n",
    "The callbacks I added are just logs, but hopefully that suffices. Anyway, that's about it. This is a deceptively short project.\n",
    "I reverse engineered a substantial portion from an example from Keras for english->french, which is where I got the data from,\n",
    "but I wrote all of this code myself.\n",
    "\"\"\")"
   ]
  },
  {
   "cell_type": "code",
   "execution_count": 3,
   "id": "caa98d7b",
   "metadata": {},
   "outputs": [
    {
     "name": "stdout",
     "output_type": "stream",
     "text": [
      "\n",
      "\n",
      "Overall takeaways - it's actually remarkably involved to do what I thought wouldn't take very long at first.\n",
      "Not super hard, but certainly complex. We worked with similar LTSM stuff - but pre-loaded models. Combining them with writing my own encoders and decoders is VERY finicky as well.\n",
      "I'm pretty sure despite re-running this repeatedly there's at least one odd variable name that breaks things because of how many times I rewrote this.\n",
      "\n",
      "I definitely have more of an appreciation for machine translation. Also, mine sucked a little - I re-ran it a couple times and this is more or less what it outputs 70% of the time, I think i'm off by one for my OHE unfortunately.\n",
      "Nonetheless, definitely an interesting project.\n",
      "\n",
      "-- Riker\n",
      "\n"
     ]
    }
   ],
   "source": [
    "print(\"\"\"\n",
    "\n",
    "Overall takeaways - it's actually remarkably involved to do what I thought wouldn't take very long at first.\n",
    "Not super hard, but certainly complex. We worked with similar LTSM stuff - but pre-loaded models. Combining them with writing my own encoders and decoders is VERY finicky as well.\n",
    "I'm pretty sure despite re-running this repeatedly there's at least one odd variable name that breaks things because of how many times I rewrote this.\n",
    "\n",
    "I definitely have more of an appreciation for machine translation. Also, mine sucked a little - I re-ran it a couple times and this is more or less what it outputs 70% of the time, I think i'm off by one for my OHE unfortunately.\n",
    "Nonetheless, definitely an interesting project.\n",
    "\n",
    "-- Riker\n",
    "\"\"\")"
   ]
  }
 ],
 "metadata": {
  "kernelspec": {
   "display_name": "Python 3 (ipykernel)",
   "language": "python",
   "name": "python3"
  },
  "language_info": {
   "codemirror_mode": {
    "name": "ipython",
    "version": 3
   },
   "file_extension": ".py",
   "mimetype": "text/x-python",
   "name": "python",
   "nbconvert_exporter": "python",
   "pygments_lexer": "ipython3",
   "version": "3.9.13"
  }
 },
 "nbformat": 4,
 "nbformat_minor": 5
}
